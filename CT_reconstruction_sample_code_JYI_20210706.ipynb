{
  "nbformat": 4,
  "nbformat_minor": 0,
  "metadata": {
    "colab": {
      "name": "CT_reconstruction_sample_code_JYI_20210706.ipynb",
      "provenance": [],
      "collapsed_sections": [],
      "include_colab_link": true
    },
    "kernelspec": {
      "name": "python3",
      "display_name": "Python 3"
    },
    "language_info": {
      "name": "python"
    },
    "accelerator": "GPU"
  },
  "cells": [
    {
      "cell_type": "markdown",
      "metadata": {
        "id": "view-in-github",
        "colab_type": "text"
      },
      "source": [
        "<a href=\"https://colab.research.google.com/github/JAMES-YI/T02_CT_Image_Processing_Tutorial/blob/main/CT_reconstruction_sample_code_JYI_20210706.ipynb\" target=\"_parent\"><img src=\"https://colab.research.google.com/assets/colab-badge.svg\" alt=\"Open In Colab\"/></a>"
      ]
    },
    {
      "cell_type": "markdown",
      "metadata": {
        "id": "27NeK7n502Vu"
      },
      "source": [
        "Code originally from Yimin Zhong at Duke University\n",
        "\n",
        "Updated by JYI, 07/06/2021\n",
        "\n",
        "ToDos\n",
        "- get extremely familiar with the high level architecture\n",
        "- get extremely familiar with each key component\n",
        "- get familiar with each function\n",
        "- get extremely familiar with the underlying principle\n",
        "- factorization of the whole system\n",
        "- evaluate the system under different setups\n",
        "- evaluate the system over different datasets\n",
        "- evaluate the system over different image data modalities\n",
        "- algorithmic innovation and performance improvements\n",
        "- under-sampling process and under-sampled image exploration\n",
        "- angle optimization\n",
        "- customized input\n",
        "- customized layer\n",
        "- customized activation functions\n",
        "- customized network architecture design\n",
        "- customized output\n",
        "- customized evaluation metrics\n",
        "- customized loss function design\n",
        "- customized initialization\n",
        "- customized dataset loader design\n",
        "- customized reconstruction algorithm\n",
        "- determine what to learn\n"
      ]
    },
    {
      "cell_type": "code",
      "metadata": {
        "colab": {
          "base_uri": "https://localhost:8080/",
          "height": 1000
        },
        "id": "gWUSYinMgF66",
        "outputId": "73b8d002-e54f-4287-b8ce-314fe8bfe1aa"
      },
      "source": [
        "!pip install pyronn tensorflow==2.3 tensorflow_addons\n",
        "\"\"\"\n",
        "ToDos\n",
        "- read documentations\n",
        "  - pyronn\n",
        "  - tensorflow \n",
        "- factorization of this file\n",
        "\"\"\""
      ],
      "execution_count": null,
      "outputs": [
        {
          "output_type": "stream",
          "text": [
            "Collecting pyronn\n",
            "  Downloading https://files.pythonhosted.org/packages/0a/9d/63b16cc190b94e6ca712e0b693c13425a3a6681493a7529eb22e3faa68dc/pyronn-0.1.0-py3-none-any.whl\n",
            "Collecting tensorflow==2.3\n",
            "\u001b[?25l  Downloading https://files.pythonhosted.org/packages/16/89/f2d29c2eafc2eeafb17d5634340e06366af904d332341200a49d954bce85/tensorflow-2.3.0-cp37-cp37m-manylinux2010_x86_64.whl (320.4MB)\n",
            "\u001b[K     |████████████████████████████████| 320.4MB 52kB/s \n",
            "\u001b[?25hCollecting tensorflow_addons\n",
            "\u001b[?25l  Downloading https://files.pythonhosted.org/packages/66/4b/e893d194e626c24b3df2253066aa418f46a432fdb68250cde14bf9bb0700/tensorflow_addons-0.13.0-cp37-cp37m-manylinux2010_x86_64.whl (679kB)\n",
            "\u001b[K     |████████████████████████████████| 686kB 40.8MB/s \n",
            "\u001b[?25hRequirement already satisfied: numpy in /usr/local/lib/python3.7/dist-packages (from pyronn) (1.19.5)\n",
            "Collecting pyronn-layers>=0.1.0\n",
            "\u001b[?25l  Downloading https://files.pythonhosted.org/packages/69/e2/f818b28cb38f131cae9a829da533dd1c9ac4898ba76e2a9166616a7b7142/pyronn_layers-0.1.4.2-cp37-cp37m-manylinux2010_x86_64.whl (140kB)\n",
            "\u001b[K     |████████████████████████████████| 143kB 58.2MB/s \n",
            "\u001b[?25hRequirement already satisfied: keras-preprocessing<1.2,>=1.1.1 in /usr/local/lib/python3.7/dist-packages (from tensorflow==2.3) (1.1.2)\n",
            "Collecting tensorflow-estimator<2.4.0,>=2.3.0\n",
            "\u001b[?25l  Downloading https://files.pythonhosted.org/packages/e9/ed/5853ec0ae380cba4588eab1524e18ece1583b65f7ae0e97321f5ff9dfd60/tensorflow_estimator-2.3.0-py2.py3-none-any.whl (459kB)\n",
            "\u001b[K     |████████████████████████████████| 460kB 50.7MB/s \n",
            "\u001b[?25hRequirement already satisfied: wrapt>=1.11.1 in /usr/local/lib/python3.7/dist-packages (from tensorflow==2.3) (1.12.1)\n",
            "Collecting h5py<2.11.0,>=2.10.0\n",
            "\u001b[?25l  Downloading https://files.pythonhosted.org/packages/3f/c0/abde58b837e066bca19a3f7332d9d0493521d7dd6b48248451a9e3fe2214/h5py-2.10.0-cp37-cp37m-manylinux1_x86_64.whl (2.9MB)\n",
            "\u001b[K     |████████████████████████████████| 2.9MB 40.1MB/s \n",
            "\u001b[?25hRequirement already satisfied: scipy==1.4.1 in /usr/local/lib/python3.7/dist-packages (from tensorflow==2.3) (1.4.1)\n",
            "Requirement already satisfied: astunparse==1.6.3 in /usr/local/lib/python3.7/dist-packages (from tensorflow==2.3) (1.6.3)\n",
            "Requirement already satisfied: absl-py>=0.7.0 in /usr/local/lib/python3.7/dist-packages (from tensorflow==2.3) (0.12.0)\n",
            "Requirement already satisfied: wheel>=0.26 in /usr/local/lib/python3.7/dist-packages (from tensorflow==2.3) (0.36.2)\n",
            "Requirement already satisfied: tensorboard<3,>=2.3.0 in /usr/local/lib/python3.7/dist-packages (from tensorflow==2.3) (2.5.0)\n",
            "Requirement already satisfied: termcolor>=1.1.0 in /usr/local/lib/python3.7/dist-packages (from tensorflow==2.3) (1.1.0)\n",
            "Requirement already satisfied: six>=1.12.0 in /usr/local/lib/python3.7/dist-packages (from tensorflow==2.3) (1.15.0)\n",
            "Requirement already satisfied: grpcio>=1.8.6 in /usr/local/lib/python3.7/dist-packages (from tensorflow==2.3) (1.34.1)\n",
            "Requirement already satisfied: google-pasta>=0.1.8 in /usr/local/lib/python3.7/dist-packages (from tensorflow==2.3) (0.2.0)\n",
            "Requirement already satisfied: protobuf>=3.9.2 in /usr/local/lib/python3.7/dist-packages (from tensorflow==2.3) (3.12.4)\n",
            "Requirement already satisfied: opt-einsum>=2.3.2 in /usr/local/lib/python3.7/dist-packages (from tensorflow==2.3) (3.3.0)\n",
            "Collecting gast==0.3.3\n",
            "  Downloading https://files.pythonhosted.org/packages/d6/84/759f5dd23fec8ba71952d97bcc7e2c9d7d63bdc582421f3cd4be845f0c98/gast-0.3.3-py2.py3-none-any.whl\n",
            "Requirement already satisfied: typeguard>=2.7 in /usr/local/lib/python3.7/dist-packages (from tensorflow_addons) (2.7.1)\n",
            "Requirement already satisfied: requests<3,>=2.21.0 in /usr/local/lib/python3.7/dist-packages (from tensorboard<3,>=2.3.0->tensorflow==2.3) (2.23.0)\n",
            "Requirement already satisfied: tensorboard-data-server<0.7.0,>=0.6.0 in /usr/local/lib/python3.7/dist-packages (from tensorboard<3,>=2.3.0->tensorflow==2.3) (0.6.1)\n",
            "Requirement already satisfied: tensorboard-plugin-wit>=1.6.0 in /usr/local/lib/python3.7/dist-packages (from tensorboard<3,>=2.3.0->tensorflow==2.3) (1.8.0)\n",
            "Requirement already satisfied: markdown>=2.6.8 in /usr/local/lib/python3.7/dist-packages (from tensorboard<3,>=2.3.0->tensorflow==2.3) (3.3.4)\n",
            "Requirement already satisfied: setuptools>=41.0.0 in /usr/local/lib/python3.7/dist-packages (from tensorboard<3,>=2.3.0->tensorflow==2.3) (57.0.0)\n",
            "Requirement already satisfied: werkzeug>=0.11.15 in /usr/local/lib/python3.7/dist-packages (from tensorboard<3,>=2.3.0->tensorflow==2.3) (1.0.1)\n",
            "Requirement already satisfied: google-auth-oauthlib<0.5,>=0.4.1 in /usr/local/lib/python3.7/dist-packages (from tensorboard<3,>=2.3.0->tensorflow==2.3) (0.4.4)\n",
            "Requirement already satisfied: google-auth<2,>=1.6.3 in /usr/local/lib/python3.7/dist-packages (from tensorboard<3,>=2.3.0->tensorflow==2.3) (1.31.0)\n",
            "Requirement already satisfied: chardet<4,>=3.0.2 in /usr/local/lib/python3.7/dist-packages (from requests<3,>=2.21.0->tensorboard<3,>=2.3.0->tensorflow==2.3) (3.0.4)\n",
            "Requirement already satisfied: idna<3,>=2.5 in /usr/local/lib/python3.7/dist-packages (from requests<3,>=2.21.0->tensorboard<3,>=2.3.0->tensorflow==2.3) (2.10)\n",
            "Requirement already satisfied: urllib3!=1.25.0,!=1.25.1,<1.26,>=1.21.1 in /usr/local/lib/python3.7/dist-packages (from requests<3,>=2.21.0->tensorboard<3,>=2.3.0->tensorflow==2.3) (1.24.3)\n",
            "Requirement already satisfied: certifi>=2017.4.17 in /usr/local/lib/python3.7/dist-packages (from requests<3,>=2.21.0->tensorboard<3,>=2.3.0->tensorflow==2.3) (2021.5.30)\n",
            "Requirement already satisfied: importlib-metadata; python_version < \"3.8\" in /usr/local/lib/python3.7/dist-packages (from markdown>=2.6.8->tensorboard<3,>=2.3.0->tensorflow==2.3) (4.5.0)\n",
            "Requirement already satisfied: requests-oauthlib>=0.7.0 in /usr/local/lib/python3.7/dist-packages (from google-auth-oauthlib<0.5,>=0.4.1->tensorboard<3,>=2.3.0->tensorflow==2.3) (1.3.0)\n",
            "Requirement already satisfied: rsa<5,>=3.1.4; python_version >= \"3.6\" in /usr/local/lib/python3.7/dist-packages (from google-auth<2,>=1.6.3->tensorboard<3,>=2.3.0->tensorflow==2.3) (4.7.2)\n",
            "Requirement already satisfied: pyasn1-modules>=0.2.1 in /usr/local/lib/python3.7/dist-packages (from google-auth<2,>=1.6.3->tensorboard<3,>=2.3.0->tensorflow==2.3) (0.2.8)\n",
            "Requirement already satisfied: cachetools<5.0,>=2.0.0 in /usr/local/lib/python3.7/dist-packages (from google-auth<2,>=1.6.3->tensorboard<3,>=2.3.0->tensorflow==2.3) (4.2.2)\n",
            "Requirement already satisfied: typing-extensions>=3.6.4; python_version < \"3.8\" in /usr/local/lib/python3.7/dist-packages (from importlib-metadata; python_version < \"3.8\"->markdown>=2.6.8->tensorboard<3,>=2.3.0->tensorflow==2.3) (3.7.4.3)\n",
            "Requirement already satisfied: zipp>=0.5 in /usr/local/lib/python3.7/dist-packages (from importlib-metadata; python_version < \"3.8\"->markdown>=2.6.8->tensorboard<3,>=2.3.0->tensorflow==2.3) (3.4.1)\n",
            "Requirement already satisfied: oauthlib>=3.0.0 in /usr/local/lib/python3.7/dist-packages (from requests-oauthlib>=0.7.0->google-auth-oauthlib<0.5,>=0.4.1->tensorboard<3,>=2.3.0->tensorflow==2.3) (3.1.1)\n",
            "Requirement already satisfied: pyasn1>=0.1.3 in /usr/local/lib/python3.7/dist-packages (from rsa<5,>=3.1.4; python_version >= \"3.6\"->google-auth<2,>=1.6.3->tensorboard<3,>=2.3.0->tensorflow==2.3) (0.4.8)\n",
            "\u001b[31mERROR: tensorflow 2.3.0 has requirement numpy<1.19.0,>=1.16.0, but you'll have numpy 1.19.5 which is incompatible.\u001b[0m\n",
            "Installing collected packages: tensorflow-estimator, h5py, gast, tensorflow, pyronn-layers, pyronn, tensorflow-addons\n",
            "  Found existing installation: tensorflow-estimator 2.5.0\n",
            "    Uninstalling tensorflow-estimator-2.5.0:\n",
            "      Successfully uninstalled tensorflow-estimator-2.5.0\n",
            "  Found existing installation: h5py 3.1.0\n",
            "    Uninstalling h5py-3.1.0:\n",
            "      Successfully uninstalled h5py-3.1.0\n",
            "  Found existing installation: gast 0.4.0\n",
            "    Uninstalling gast-0.4.0:\n",
            "      Successfully uninstalled gast-0.4.0\n",
            "  Found existing installation: tensorflow 2.5.0\n",
            "    Uninstalling tensorflow-2.5.0:\n",
            "      Successfully uninstalled tensorflow-2.5.0\n",
            "Successfully installed gast-0.3.3 h5py-2.10.0 pyronn-0.1.0 pyronn-layers-0.1.4.2 tensorflow-2.3.0 tensorflow-addons-0.13.0 tensorflow-estimator-2.3.0\n"
          ],
          "name": "stdout"
        },
        {
          "output_type": "execute_result",
          "data": {
            "application/vnd.google.colaboratory.intrinsic+json": {
              "type": "string"
            },
            "text/plain": [
              "'\\nToDos\\n- read documentations\\n  - pyronn\\n  - tensorflow \\n- factorization of this file\\n'"
            ]
          },
          "metadata": {
            "tags": []
          },
          "execution_count": 1
        }
      ]
    },
    {
      "cell_type": "markdown",
      "metadata": {
        "id": "VHwO78qv3raH"
      },
      "source": [
        "# Step: Libraries import"
      ]
    },
    {
      "cell_type": "code",
      "metadata": {
        "id": "DO167buKRgpM",
        "colab": {
          "base_uri": "https://localhost:8080/"
        },
        "outputId": "cc97e087-ee83-47b8-8307-a306fa95dd5b"
      },
      "source": [
        "import sys\n",
        "import tensorflow as tf\n",
        "import numpy as np\n",
        "\n",
        "from tensorflow.keras.layers import Layer                                       #! tensorflow downgraded to 2.3 in order to use pyronn.\n",
        "import tensorflow.keras.backend as K\n",
        "import tensorflow.keras.models\n",
        "from tensorflow.keras.layers import Layer, Activation, LeakyReLU, ReLU\n",
        "from tensorflow.keras.layers import Input, AveragePooling2D, Conv2D, MaxPooling2D, UpSampling2D, Conv2DTranspose\n",
        "from tensorflow.keras.layers import BatchNormalization\n",
        "from tensorflow.keras.layers import Concatenate\n",
        "\n",
        "tf.keras.backend.set_floatx('float32')\n",
        "\n",
        "from pyronn.ct_reconstruction.layers.projection_2d import parallel_projection2d\n",
        "from pyronn.ct_reconstruction.layers.backprojection_2d import parallel_backprojection2d\n",
        "from pyronn.ct_reconstruction.geometry.geometry_parallel_2d import GeometryParallel2D\n",
        "from pyronn.ct_reconstruction.helpers.filters import filters\n",
        "from pyronn.ct_reconstruction.helpers.trajectories import circular_trajectory\n",
        "from pyronn.ct_reconstruction.helpers.phantoms import shepp_logan\n",
        "\n",
        "from matplotlib import pyplot as plt\n"
      ],
      "execution_count": null,
      "outputs": [
        {
          "output_type": "stream",
          "text": [
            "Tensorflow: memory_growth is set to True\n"
          ],
          "name": "stdout"
        }
      ]
    },
    {
      "cell_type": "markdown",
      "metadata": {
        "id": "kAsFZa37KYau"
      },
      "source": [
        "JYI\n",
        "- tf.keras.backend.set_floatx: set up default data type\n",
        "https://www.tensorflow.org/api_docs/python/tf/keras/backend/set_floatx\n",
        "- \n"
      ]
    },
    {
      "cell_type": "markdown",
      "metadata": {
        "id": "jl4eS8yA33Xh"
      },
      "source": [
        "# Step: Set up geometry "
      ]
    },
    {
      "cell_type": "code",
      "metadata": {
        "id": "bvfiFcSLSfHf"
      },
      "source": [
        "\"\"\"\n",
        "<set_geometry_info>\n",
        "\n",
        "@param  volume_size:            image width and height in pixel\n",
        "        volume_spacing:         spacing between voxels\n",
        "        detector_shape:         number of detectors for each projection\n",
        "        detector_spacing:       spacing between voxels for detectors\n",
        "        number_of_projections:  number of projections\n",
        "        angular_range:          range of covered angles\n",
        "\n",
        "@return geometry object \n",
        "        <pyronn.ct_reconstruction.geometry.geometry_parallel_2d.GeometryParallel2D>\n",
        "\"\"\"\n",
        "def set_geometry_info(volume_size=256, \n",
        "                      volume_spacing=[1,1], \n",
        "                      detector_shape=800,\n",
        "                      detector_spacing=1, \n",
        "                      number_of_projections=180, \n",
        "                      angular_range= 2 * np.pi):\n",
        "\n",
        "    volume_shape = [volume_size, volume_size]\n",
        "    geometry = GeometryParallel2D(volume_shape, \n",
        "                                  volume_spacing, \n",
        "                                  detector_shape, \n",
        "                                  detector_spacing, \n",
        "                                  number_of_projections, \n",
        "                                  angular_range)\n",
        "\n",
        "    geometry.set_trajectory(circular_trajectory.circular_trajectory_2d(geometry))\n",
        "\n",
        "    return geometry\n",
        "\n"
      ],
      "execution_count": null,
      "outputs": []
    },
    {
      "cell_type": "code",
      "metadata": {
        "colab": {
          "base_uri": "https://localhost:8080/"
        },
        "id": "MBd-9Q3eLkHV",
        "outputId": "bcf7dd4d-7641-49a1-ca29-de4c24b1d74f"
      },
      "source": [
        "# # JYI - Exploration of geometry object\n",
        "# gmt = set_geometry_info()\n",
        "# rv_index = 2\n",
        "\n",
        "# print(f\"gmt type: {type(gmt)}\")\n",
        "# print(f\"gmt: {gmt}\")\n",
        "# print(f\"gmt ray vector shape: {gmt.ray_vectors.shape}\")\n",
        "# print(f\"gmt ray vector shape 1st sample: {gmt.ray_vectors[rv_index]}\")\n",
        "# print(f\"gmt set_trajectory: {gmt.set_trajectory}\")\n",
        "\n",
        "# # JYI - Exploration of circular_trajectory_2d object\n",
        "# traj = circular_trajectory.circular_trajectory_2d(gmt)\n",
        "# print(f\"traj shape: {traj.shape}\")\n",
        "# print(f\"first sample in traj: {traj[rv_index]}\")"
      ],
      "execution_count": null,
      "outputs": [
        {
          "output_type": "stream",
          "text": [
            "gmt type: <class 'pyronn.ct_reconstruction.geometry.geometry_parallel_2d.GeometryParallel2D'>\n",
            "gmt: <pyronn.ct_reconstruction.geometry.geometry_parallel_2d.GeometryParallel2D object at 0x7fa78b68e7d0>\n",
            "gmt ray vector shape: (180, 2)\n",
            "gmt ray vector shape 1st sample: [0.9975641  0.06975647]\n",
            "gmt set_trajectory: <bound method GeometryParallel2D.set_trajectory of <pyronn.ct_reconstruction.geometry.geometry_parallel_2d.GeometryParallel2D object at 0x7fa78b68e7d0>>\n",
            "traj shape: (180, 2)\n",
            "first sample in traj: [0.99756405 0.06975647]\n"
          ],
          "name": "stdout"
        }
      ]
    },
    {
      "cell_type": "markdown",
      "metadata": {
        "id": "cf_DyZE4Ks86"
      },
      "source": [
        "JYI - physical meanings\n",
        "- volume_size: image width and height --> 2D image\n",
        "- detector_shape: in parallel projection case with 2D image, detector shape is the number of beams associated with each angle\n",
        "- detector_spacing: in parallel projection case with 2D image, detector spacing is the distance between neighboring beams associated with each angle\n",
        "- circular_trajectory.circular_trajectory_2d(geometry): (1) 2D array, [number of ray vectors, 2], number of ray vectors == number of projections == number of angles; \n",
        "  (2) each ray vector is determined by orgin and a point on unit circle;\n",
        "  (3) point on unit circle is determined by the angle formed by ray vector the horizontal axis [cos(theta), sin(theta)]; \n",
        "  (4) angular range is evenly divided into as many as ray vectors\n",
        "- geometry.set_trajectory: only change data type\n",
        "- circular_trajectory.circular_trajectory_2d(gmt) is exactly the same as gmt.ray_vectors\n",
        "\n",
        "Documentations\n",
        "- GeometryParallel2D: https://github.com/csyben/PYRO-NN/blob/master/pyronn/ct_reconstruction/geometry/geometry_parallel_2d.py\n",
        "- circular_trajectory_2d: https://github.com/csyben/PYRO-NN/blob/master/pyronn/ct_reconstruction/helpers/trajectories/circular_trajectory.py\n",
        "  \n"
      ]
    },
    {
      "cell_type": "markdown",
      "metadata": {
        "id": "S2-JcpkW4Kj3"
      },
      "source": [
        "# Step: Projection and undersampling"
      ]
    },
    {
      "cell_type": "code",
      "metadata": {
        "id": "YacexZniWL3d"
      },
      "source": [
        "\"\"\"\n",
        "<forward_operator>\n",
        "\n",
        "@param  batch_images:   tf.Tensor of dimension N_batch x Width x Height (dtype=float).\n",
        "        geometry:       GeometryParallel2D object.\n",
        "        noise:          noise level. None if no noise added.  \n",
        "\n",
        "@return sinogram batch images of dimension N_batch x N_Projection x N_Detector\n",
        "\"\"\"\n",
        "def forward_operator(batch_images, geometry, noise=None):\n",
        "    sinogram = parallel_projection2d(batch_images, geometry)\n",
        "\n",
        "    if noise:\n",
        "        sinogram = sinogram + \\\n",
        "        np.random.normal(loc=np.mean(np.abs(sinogram)), scale=np.std(sinogram), size=sinogram.shape) * noise\n",
        "\n",
        "    return sinogram \n"
      ],
      "execution_count": null,
      "outputs": []
    },
    {
      "cell_type": "code",
      "metadata": {
        "id": "aChQK2Olf8sj"
      },
      "source": [
        "# # JYI - Exploration of forward operator or projection with imagenet dataset\n",
        "# from tensorflow.keras.datasets import mnist\n",
        "\n",
        "# gmt = set_geometry_info(volume_size=28)\n",
        "\n",
        "# (train_images,train_labels), (test_images,test_labels) = mnist.load_data()\n",
        "# bc_images = train_images[0:25,]\n",
        "\n",
        "# sngm = forward_operator(batch_images=bc_images,geometry=gmt)\n"
      ],
      "execution_count": null,
      "outputs": []
    },
    {
      "cell_type": "code",
      "metadata": {
        "colab": {
          "base_uri": "https://localhost:8080/",
          "height": 732
        },
        "id": "emotJwukh1DF",
        "outputId": "92057bb0-fcec-4209-b2d4-7a124a7c2b05"
      },
      "source": [
        "# JYI - Exploration of sinograms\n",
        "# print(f\"sngm: {sngm.shape}\") # (# of samples, # of projections, # of detectors or detector_shape) or (number, 180, 800)\n",
        "# print(f\"sngm type: {type(sngm)}\")\n",
        "# print(f\"sngm range: {np.min(sngm)}, {np.max(sngm)}\") # [0.0, 5435]\n",
        "# print(f\"sngm[0]: {sngm[0]}\")\n",
        "# print(f\"sngm[0].shape: {sngm[0].shape}\")\n",
        "\n",
        "# plt.figure(figsize=(20,10))\n",
        "# for i in range(25):\n",
        "#     plt.subplot(5,5,i+1)\n",
        "#     #plt.xticks([])\n",
        "#     #plt.yticks([])\n",
        "#     #plt.grid(False)\n",
        "#     plt.imshow(sngm[i])\n",
        "# plt.show()\n"
      ],
      "execution_count": null,
      "outputs": [
        {
          "output_type": "stream",
          "text": [
            "sngm: (25, 180, 800)\n",
            "sngm type: <class 'tensorflow.python.framework.ops.EagerTensor'>\n",
            "sngm range: 0.0, 5435.3046875\n",
            "sngm[0]: [[0. 0. 0. ... 0. 0. 0.]\n",
            " [0. 0. 0. ... 0. 0. 0.]\n",
            " [0. 0. 0. ... 0. 0. 0.]\n",
            " ...\n",
            " [0. 0. 0. ... 0. 0. 0.]\n",
            " [0. 0. 0. ... 0. 0. 0.]\n",
            " [0. 0. 0. ... 0. 0. 0.]]\n",
            "sngm[0].shape: (180, 800)\n"
          ],
          "name": "stdout"
        },
        {
          "output_type": "display_data",
          "data": {
            "image/png": "[encoded data removed]",
            "text/plain": [
              "<Figure size 1440x720 with 25 Axes>"
            ]
          },
          "metadata": {
            "tags": [],
            "needs_background": "light"
          }
        }
      ]
    },
    {
      "cell_type": "markdown",
      "metadata": {
        "id": "uoMaVtmCNtI-"
      },
      "source": [
        "JYI\n",
        "- 3D RBG image? 4D RGB image?\n",
        "- parallel_projection2d: https://github.com/csyben/PYRO-NN/blob/master/pyronn/ct_reconstruction/layers/projection_2d.py \n",
        "  return an object of pyronn_layers.parallel_projection2d\n",
        "- np.broadcast_to: https://numpy.org/doc/stable/reference/generated/numpy.broadcast_to.html\n",
        "- sinogram is the measurements or observations; will be used to reconstruct the image\n",
        "- celeb_a dataset not available in tfds\n",
        "- streak artifacts can appear when undersampling is performed\n",
        "- undersampling: (1) less than 180 degree for projections; or (2) sparse sampling;\n",
        "- sparse sampling: spacing between neighboring projections is large\n",
        "- full sampling: 2~3 projections in one degree\n",
        "- fully sampling in clinical cbct: 900 projections in 360 degree\n",
        "- sparse sampling: 90, or 72, or 36 projections in 360 degree\n",
        "- fully sampling in practice: 1 projection for one degree\n",
        "- half fan\n",
        "- full fan\n",
        "- cbct half fan and full fan\n",
        "\n",
        "\n",
        "\n",
        "ToDos\n",
        "- explore sinogram\n",
        "- https://www.tensorflow.org/datasets/overview\n",
        "- tensorflow_datasets, https://www.tensorflow.org/datasets/catalog/overview\n",
        "- import tensorflow_datasets as tfds\n",
        "- ds = tfds.load('lsun', split='train', shuffle_files=True) # 3.06 Gb\n",
        "- ds = tfds.load('arc', split='train', shuffle_files=True) # 465 Kb\n",
        "- sinogram of size (180,800) for each sample of size(28,28) --> oversampling\n",
        "- what about the undersampling case, e.g., sinogram of size (180,4), (7,100)?\n",
        "- how sinograms are computed?\n"
      ]
    },
    {
      "cell_type": "markdown",
      "metadata": {
        "id": "YPxNiXxf4TwG"
      },
      "source": [
        "# Step: Backprojection and reconstruction"
      ]
    },
    {
      "cell_type": "code",
      "metadata": {
        "id": "yAAvpWWYcobZ"
      },
      "source": [
        "\"\"\"\n",
        "<backward_operator>\n",
        "\n",
        "@param  sinogram:     tf.Tensor of dimension N_batch x N_Projection x N_Detector (dtype=float).\n",
        "\n",
        "@return reconstruction: tf.Tensor of dimension N_batch x Width X Height (dtype=float)\n",
        "\n",
        "@caution \n",
        "\n",
        "The use of tf.complex64 is non-standard (error around 1E-4). Usually fft packages use complex128 by default. \n",
        "However, the pyronn's function 'parallel_backprojection2d' demands a float type input.\n",
        "\"\"\"\n",
        "def backward_operator(sinogram, geometry):\n",
        "    _filter   = filters.ram_lak_2D(geometry)\n",
        "    _frequecy = tf.signal.fft(tf.cast(sinogram,dtype=tf.complex64))\n",
        "    filtered_sinogram =  tf.math.real(tf.signal.ifft(\n",
        "                tf.multiply(_frequecy,tf.cast(_filter,dtype=tf.complex64)) \n",
        "                )) \n",
        "\n",
        "    reconstruction = parallel_backprojection2d(filtered_sinogram, geometry)\n",
        "\n",
        "    return reconstruction \n",
        "  \n"
      ],
      "execution_count": null,
      "outputs": []
    },
    {
      "cell_type": "markdown",
      "metadata": {
        "id": "4PndnIOvq62b"
      },
      "source": [
        "JYI\n",
        "- filters.ram_lak_2D\n",
        "- tf.signal.fft\n",
        "- tf.cast\n",
        "- tf.math.real\n",
        "- tf.signal.ifft\n",
        "- parallel_backprojection2d: https://github.com/csyben/PYRO-NN/blob/726b62b57d7093ff0f3e675e66d976d989eebc0a/pyronn/ct_reconstruction/layers/backprojection_2d.py\n",
        "- np.alen: https://www.kite.com/python/docs/numpy.alen\n",
        "- _filter\n",
        "- _frequency\n"
      ]
    },
    {
      "cell_type": "code",
      "metadata": {
        "id": "dalHSQ6HpbRu"
      },
      "source": [
        "# # JYI - Exploration of backprojection and reconsturction I\n",
        "# from tensorflow.keras.datasets import mnist\n",
        "# (train_images, train_labels),(_,_) = mnist.load_data()\n",
        "\n",
        "# truth_images = train_images[0:25,]\n",
        "# gmt = set_geometry_info(volume_size=28)\n",
        "# sngm = forward_operator(batch_images=truth_images,geometry=gmt)\n",
        "# reconst_images = backward_operator(sinogram=sngm,geometry=gmt)\n"
      ],
      "execution_count": null,
      "outputs": []
    },
    {
      "cell_type": "code",
      "metadata": {
        "colab": {
          "base_uri": "https://localhost:8080/",
          "height": 1000
        },
        "id": "dHHF115vrJnC",
        "outputId": "e22ae193-21c2-4745-c701-f9205155375f"
      },
      "source": [
        "# # JYI - Exploration of backprojection and reconstruction II\n",
        "# plt.figure(figsize=(20,10))\n",
        "# for i in range(25):\n",
        "#     plt.subplot(5,5,i+1)\n",
        "#     #plt.xticks([])\n",
        "#     #plt.yticks([])\n",
        "#     #plt.grid(False)\n",
        "#     plt.imshow(truth_images[i])\n",
        "#     plt.colorbar()\n",
        "\n",
        "# plt.title('Truth')\n",
        "# plt.show()\n",
        "\n",
        "# plt.figure(figsize=(20,10))\n",
        "# for i in range(25):\n",
        "#     plt.subplot(5,5,i+1)\n",
        "#     #plt.xticks([])\n",
        "#     #plt.yticks([])\n",
        "#     #plt.grid(False)\n",
        "#     plt.imshow(reconst_images[i])\n",
        "#     plt.colorbar()\n",
        "\n",
        "# plt.title('Reconstructed')\n",
        "# plt.show()"
      ],
      "execution_count": null,
      "outputs": [
        {
          "output_type": "display_data",
          "data": {
            "image/png": "[encoded data removed]",
            "text/plain": [
              "<Figure size 1440x720 with 50 Axes>"
            ]
          },
          "metadata": {
            "tags": [],
            "needs_background": "light"
          }
        },
        {
          "output_type": "display_data",
          "data": {
            "image/png": "[encoded data removed]",
            "text/plain": [
              "<Figure size 1440x720 with 50 Axes>"
            ]
          },
          "metadata": {
            "tags": [],
            "needs_background": "light"
          }
        }
      ]
    },
    {
      "cell_type": "markdown",
      "metadata": {
        "id": "t0DzhiDOFWhs"
      },
      "source": [
        "JYI - ToDos\n",
        "- limitations of backprojection reconstruction"
      ]
    },
    {
      "cell_type": "markdown",
      "metadata": {
        "id": "ykJhinYg4aaC"
      },
      "source": [
        "# Step: Customize loss for learning"
      ]
    },
    {
      "cell_type": "code",
      "metadata": {
        "id": "tkQGAejagyD7"
      },
      "source": [
        "\"\"\"\n",
        "L1 norm of w.\n",
        "\"\"\"\n",
        "def l1_loss(w):\n",
        "    return tf.reduce_mean(tf.abs(w))\n"
      ],
      "execution_count": null,
      "outputs": []
    },
    {
      "cell_type": "markdown",
      "metadata": {
        "id": "CPJ_MhAAFMQ0"
      },
      "source": [
        "JYI - customized loss functions\n",
        "- tf.math.reduce_mean, https://www.tensorflow.org/api_docs/python/tf/math/reduce_mean\n",
        "- if want to use L1 loss, we should use tf.sum\n",
        "- tf.math.reduce_sum, https://www.tensorflow.org/api_docs/python/tf/math/reduce_sum\n",
        "- tf.abs, https://www.tensorflow.org/api_docs/python/tf/math/abs\n",
        "- size of w? \n",
        "- when the number of elements in w is too big, the regularization is too small\n",
        "- \n"
      ]
    },
    {
      "cell_type": "markdown",
      "metadata": {
        "id": "iXESnIpeAQOH"
      },
      "source": [
        "Tips about tensorflow.Layer\n",
        "- a layer encapsulates both state or weights and a transformation or call from inputs to outputs\n",
        "- a layer is a class: initialize a layer, and then use it as an object\n",
        "- access layer weights by layer_object.weights\n",
        "- two ways for defin\n",
        "\n",
        "ToDos\n",
        "- attributes and methods associated with Layer object\n",
        "  - Layer.add_weight\n",
        "  - Layer.build\n",
        "  - more technically strong problems\n",
        "  - \n",
        "\n"
      ]
    },
    {
      "cell_type": "code",
      "metadata": {
        "id": "b59Kei29hLWY"
      },
      "source": [
        "################################################################################\n",
        "\n",
        "# Layers\n",
        "\n",
        "################################################################################\n",
        "class Mask(Layer):\n",
        "    def __init__(self, slope=5.0, step_slope=12.0, threshold=0.5, initializer=None, **kwargs):\n",
        "        \"\"\"\n",
        "        @params slope:             The parameter s for f(x) = 1/ (1 + exp(-s x)), mapping (-\\infty, \\infty) to (0, 1). \n",
        "                step_slope:        If None, use step function for thresholding, otherwise simulate the step function \n",
        "                                      by sigmoid 1/(1+e^(-x)), this slope should be slightly larger. \n",
        "                initializer:       Uniformly distributed initialization. \n",
        "        \"\"\"\n",
        "        \n",
        "        self.slope       = slope                                                \n",
        "        #tf.Variable(slope,      dtype=tf.float32) # uncomment if it is also optimized.\n",
        "        self.step_slope = step_slope\n",
        "        self.threshold   = threshold                                            \n",
        "        #tf.Variable(threshold,  dtype=tf.float32) \n",
        "        self.initializer = initializer\n",
        "\n",
        "        if initializer == None:\n",
        "            self.initializer = self._logit_slope_random_uniform\n",
        "        else:\n",
        "            self.initializer = initializer\n",
        "\n",
        "        super(Mask, self).__init__(**kwargs)\n",
        "    \n",
        "\n",
        "    def build(self, input_shape):\n",
        "        \"\"\"\n",
        "        @member: logit_weights \\in (-\\infty, \\infty), trainable parameters.\n",
        "        \"\"\"\n",
        "        \n",
        "        print(f\"input_shape: {input_shape}\\n\")\n",
        "        self.logit_weights = self.add_weight(name=\"logit_weights\", \n",
        "                                       shape=[ input_shape[-2] ],               # The dimension of mask parameters.\n",
        "                                       initializer=self.initializer,\n",
        "                                       trainable=True)\n",
        "        \n",
        "        super(Mask, self).build(input_shape)\n",
        "\n",
        "        \n",
        "    def call(self, x):\n",
        "        \"\"\"\n",
        "        @return thresholded logit values or binary mask, e.g., value 1 means selection, and 0 means no selection.\n",
        "        \"\"\"\n",
        "        _weights = 0*x + tf.expand_dims(self.logit_weights, axis=-1)            \n",
        "        # expand the weights to full tensor.\n",
        "        _logits  = tf.sigmoid(self.slope * _weights)\n",
        "\n",
        "        self.add_loss(5  * l1_loss(_logits))                                    \n",
        "        # Regularization, a larger constant is used to enforce sparsity.\n",
        "\n",
        "        if self.step_slope is not None:\n",
        "            return tf.sigmoid(self.step_slope * (_logits - self.threshold))\n",
        "        else:\n",
        "            return self.threshold < _logits                                     \n",
        "            # tf.math.less(self.threshold, _logits) is not differentiable?\n",
        "\n",
        "\n",
        "    def compute_output_shape(self, input_shape):\n",
        "        return input_shape\n",
        "\n",
        "    def _logit_slope_random_uniform(self, shape, dtype=None, eps=0.01):\n",
        "        # eps could be very small, or something like eps = 1e-6\n",
        "        #   the idea is how far from the tails to have your initialization.\n",
        "        x = K.random_uniform(shape, dtype=dtype, minval=eps, maxval=1.0-eps)    # sampled on [0 + eps, 1 - eps]\n",
        "        \n",
        "        # logit with slope factor\n",
        "        return - tf.math.log(1. / x - 1.) / self.slope"
      ],
      "execution_count": null,
      "outputs": []
    },
    {
      "cell_type": "markdown",
      "metadata": {
        "id": "6o-AY6_18QVU"
      },
      "source": [
        "JYI\n",
        "- no need for if-else\n",
        "- threshold for determining whether an projection should be used\n",
        "- difference between slope and step_slope? \n",
        "  slope is used for computing probabilities for each projection to be selected\n",
        "  step_slope is used for thresholding the probabilities to be 0 or 1\n",
        "\n",
        "JYI\n",
        "- self._logit_slope_random_uniform\n",
        "- inheritage from Layer\n",
        "- physical meaning of mask?\n",
        "- self.add_weight\n",
        "- attributes of Layer object\n",
        "- motivation of mask layer? \n",
        "\n",
        "JYI\n",
        "- input_shape[-2]\n",
        "- tf.expand_dims\n",
        "- tf.sigmoid\n",
        "- motivation for _weights = 0*x + tf.expand_dims(self.logit_weights, axis=-1)?\n",
        "- Layer.add_loss\n",
        "- _logits  = tf.sigmoid(self.slope * _weights), actually the probability or the chance for selecting an angle\n",
        "- want as many zero probabilities as encouraged by l1_loss\n",
        "- motivation for tf.sigmoid(self.step_slope * (_logits - self.threshold))?\n",
        "- in self.call, the x is actually not used\n",
        "- larger step_slope --> sigmoid function gets closer to step function \n",
        "  --> positive _logits - self.threshold is more likely to have probability 1\n",
        "  &   negative _logits - self.threshold is more likely to have probability 0\n",
        "  & probability means the chance for selecting a given projection\n",
        "- _logits is actually probabilities\n",
        "- motivation for self.logit_weights = self.add_weight(name=\"logit_weights\",shape=[ input_shape[-2] ],initializer=self.initializer,trainable=True)\n",
        "\n",
        "JYI\n",
        "- from tensorflow.keras.layers import Layer \n",
        "- motivation for _logit_slope_random_uniform initializer or - tf.math.log(1. / x - 1.) / self.slope?\n",
        "- K.random_uniform,\n",
        "- tf.math.log, https://www.tensorflow.org/api_docs/python/tf/math/log\n",
        "- tensorflow.keras.Model,\n",
        "- tf.math.log, https://www.tensorflow.org/api_docs/python/tf/math/log \n",
        "- motivation for Mask class?\n",
        "- how is self.logit_weights trained?\n",
        "- self.logit_weights does not even interact with data\n"
      ]
    },
    {
      "cell_type": "code",
      "metadata": {
        "colab": {
          "base_uri": "https://localhost:8080/"
        },
        "id": "7uj13rUDFvwY",
        "outputId": "fb53ca02-6f23-4610-88bc-a5739eaf2a97"
      },
      "source": [
        "# JYI - Exploration of layers\n",
        "mskLayer = Mask()\n",
        "\n",
        "print(f\"mskLayer: {mskLayer}\")"
      ],
      "execution_count": null,
      "outputs": [
        {
          "output_type": "stream",
          "text": [
            "mskLayer: <__main__.Mask object at 0x7ff060e324d0>\n"
          ],
          "name": "stdout"
        }
      ]
    },
    {
      "cell_type": "markdown",
      "metadata": {
        "id": "M1q7Xzo9BU4O"
      },
      "source": [
        "# Step: Define model"
      ]
    },
    {
      "cell_type": "markdown",
      "metadata": {
        "id": "UG-iOq5GHe9l"
      },
      "source": [
        "Tips about tensorflow.keras.Model\n",
        "- attributes and methods\n",
        "- "
      ]
    },
    {
      "cell_type": "code",
      "metadata": {
        "id": "qneFyJoRgK7F"
      },
      "source": [
        "# Define model\n",
        "\n",
        "class simple_model(tensorflow.keras.Model):\n",
        "    def __init__(self, geometry, mask_slopes=[5.0, 12.0]):\n",
        "        super(simple_model, self).__init__()\n",
        "        self.geometry = geometry \n",
        "        self.mask_layer = Mask(slope = mask_slopes[0], step_slope = mask_slopes[1], name=\"mask\")\n",
        "\n",
        "        # prepare u_net layers\n",
        "        self.prepare_u_net()\n",
        "\n",
        "    def call(self, inputs):\n",
        "        \"\"\"\n",
        "        inputs: images \n",
        "\n",
        "        return: augmented images from backprojection reconstructed images via u-net\n",
        "        \"\"\"\n",
        "        outputs = forward_operator(inputs, self.geometry)\n",
        "        print(f\"outputs shape before mask: {outputs.shape}\")\n",
        "\n",
        "        binary_mask = self.mask_layer(outputs)\n",
        "        print(f\"binary_mask: {binary_mask}\")\n",
        "        outputs = outputs * tf.cast(binary_mask, tf.float32) \n",
        "\n",
        "        outputs = backward_operator(outputs, self.geometry)\n",
        "\n",
        "        # Add channel dimension for later u_net use.\n",
        "        outputs = tf.expand_dims(outputs, axis=-1) \n",
        "        print(f\"outputs shape before u-net: {outputs.shape}\")\n",
        "\n",
        "        outputs = self.u_net(outputs)\n",
        "        outputs = tf.squeeze(outputs, axis=-1)\n",
        "\n",
        "        return outputs\n",
        "\n",
        "    def prepare_u_net(self):\n",
        "        \"\"\"\n",
        "        - define u-net layers\n",
        "\n",
        "        \"\"\"\n",
        "\n",
        "        # u-net hardcoded.\n",
        "        features = 8 # 64 by default\n",
        "        kern     = 3\n",
        "        pool     = (2, 2)\n",
        "\n",
        "        self.conv_1_1 = Conv2D(features, kern, padding=\"same\", name=\"encode_conv_1_1\")\n",
        "        self.relu_1_1 = LeakyReLU()\n",
        "        self.bn_1_1   = BatchNormalization()\n",
        "        self.conv_1_2 = Conv2D(features, kern, padding=\"same\", name=\"encode_conv_1_2\")\n",
        "        self.relu_1_2 = LeakyReLU()\n",
        "        self.bn_1_2   = BatchNormalization()\n",
        "        self.pool_1    = AveragePooling2D(pool)\n",
        "\n",
        "        self.conv_2_1 = Conv2D(features * 2, kern, padding=\"same\", name=\"encode_conv_2_1\")\n",
        "        self.relu_2_1 = LeakyReLU()\n",
        "        self.bn_2_1   = BatchNormalization()\n",
        "        self.conv_2_2 = Conv2D(features * 2, kern, padding=\"same\", name=\"encode_conv_2_2\")\n",
        "        self.relu_2_2 = LeakyReLU()\n",
        "        self.bn_2_2   = BatchNormalization()\n",
        "        self.pool_2    = AveragePooling2D(pool)\n",
        "\n",
        "        self.conv_3_1 = Conv2D(features * 4, kern, padding=\"same\", name=\"encode_conv_3_1\")\n",
        "        self.relu_3_1 = LeakyReLU()\n",
        "        self.bn_3_1   = BatchNormalization()\n",
        "        self.conv_3_2 = Conv2D(features * 4, kern, padding=\"same\", name=\"encode_conv_3_2\")\n",
        "        self.relu_3_2 = LeakyReLU()\n",
        "        self.bn_3_2   = BatchNormalization()\n",
        "        self.pool_3    = AveragePooling2D(pool)\n",
        "\n",
        "        self.conv_4_1 = Conv2D(features * 8, kern, padding=\"same\", name=\"encode_conv_4_1\")\n",
        "        self.relu_4_1 = LeakyReLU()\n",
        "        self.bn_4_1   = BatchNormalization()\n",
        "        self.conv_4_2 = Conv2D(features * 8, kern, padding=\"same\", name=\"encode_conv_4_2\")\n",
        "        self.relu_4_2 = LeakyReLU()\n",
        "        self.bn_4_2   = BatchNormalization()\n",
        "        self.pool_4    = AveragePooling2D(pool)\n",
        "\n",
        "        self.conv_5_1 = Conv2D(features * 16, kern, padding=\"same\", name=\"encode_conv_5_1\")\n",
        "        self.relu_5_1 = LeakyReLU()\n",
        "        self.bn_5_1   = BatchNormalization()\n",
        "        self.conv_5_2 = Conv2D(features * 16, kern, padding=\"same\", name=\"encode_conv_5_2\") # (128,32,32)\n",
        "        self.relu_5_2 = LeakyReLU()\n",
        "        self.bn_5_2   = BatchNormalization()\n",
        "\n",
        "        self.sub_1     = UpSampling2D(pool) # shape\n",
        "        self.concat_1  = Concatenate(axis=-1)\n",
        "        self.conv_6_1 = Conv2D(features * 8, kern, padding=\"same\", name=\"decode_conv_6_1\")\n",
        "        self.relu_6_1 = LeakyReLU()\n",
        "        self.bn_6_1   = BatchNormalization()\n",
        "        self.conv_6_2 = Conv2D(features * 8, kern, padding=\"same\", name=\"decode_conv_6_2\")\n",
        "        self.relu_6_2 = LeakyReLU()\n",
        "        self.bn_6_2   = BatchNormalization()\n",
        "\n",
        "        self.sub_2     = UpSampling2D(pool)\n",
        "        self.concat_2  = Concatenate(axis=-1)\n",
        "        self.conv_7_1 = Conv2D(features * 4, kern, padding=\"same\", name=\"decode_conv_7_1\")\n",
        "        self.relu_7_1 = LeakyReLU()\n",
        "        self.bn_7_1   = BatchNormalization()\n",
        "        self.conv_7_2 = Conv2D(features * 4, kern, padding=\"same\", name=\"decode_conv_7_2\")\n",
        "        self.relu_7_2 = LeakyReLU()\n",
        "        self.bn_7_2   = BatchNormalization()  \n",
        "\n",
        "\n",
        "        self.sub_3     = UpSampling2D(pool)\n",
        "        self.concat_3  = Concatenate(axis=-1)        \n",
        "        self.conv_8_1 = Conv2D(features * 2, kern, padding=\"same\", name=\"decode_conv_8_1\")\n",
        "        self.relu_8_1 = LeakyReLU()\n",
        "        self.bn_8_1   = BatchNormalization()\n",
        "        self.conv_8_2 = Conv2D(features * 2, kern, padding=\"same\", name=\"decode_conv_8_2\")\n",
        "        self.relu_8_2 = LeakyReLU()\n",
        "        self.bn_8_2   = BatchNormalization()  \n",
        "\n",
        "        self.sub_4     = UpSampling2D(pool)\n",
        "        self.concat_4  = Concatenate(axis=-1)  \n",
        "        self.conv_9_1 = Conv2D(features , kern, padding=\"same\", name=\"decode_conv_9_1\")\n",
        "        self.relu_9_1 = LeakyReLU()\n",
        "        self.bn_9_1   = BatchNormalization()\n",
        "        self.conv_9_2 = Conv2D(features , kern, padding=\"same\", name=\"decode_conv_9_2\")\n",
        "        self.relu_9_2 = LeakyReLU()\n",
        "        self.bn_9_2   = BatchNormalization()  \n",
        "\n",
        "        self.conv_10   = Conv2D(1, 1, activation=\"sigmoid\", padding=\"same\", name=\"conv10\")\n",
        "                 \n",
        "\n",
        "    def u_net(self, inputs):\n",
        "        \"\"\"\n",
        "        - define layer connections\n",
        "\n",
        "        inputs: images\n",
        "        \"\"\"\n",
        "\n",
        "        # encode block 1\n",
        "        conv1 = self.conv_1_1(inputs)\n",
        "        conv1 = self.relu_1_1(conv1)\n",
        "        conv1 = self.bn_1_1(conv1)\n",
        "        conv1 = self.conv_1_2(conv1)\n",
        "        conv1 = self.relu_1_2(conv1)\n",
        "        conv1 = self.bn_1_2(conv1)\n",
        "        pool1 = self.pool_1(conv1)\n",
        "\n",
        "        # encode block 2\n",
        "        conv2 = self.conv_2_1(pool1)\n",
        "        conv2 = self.relu_2_1(conv2)\n",
        "        conv2 = self.bn_2_1(conv2)\n",
        "        conv2 = self.conv_2_2(conv2)\n",
        "        conv2 = self.relu_2_2(conv2)\n",
        "        conv2 = self.bn_2_2(conv2)\n",
        "        pool2 = self.pool_2(conv2)\n",
        "\n",
        "        # encode block 3\n",
        "        conv3 = self.conv_3_1(pool2)\n",
        "        conv3 = self.relu_3_1(conv3)\n",
        "        conv3 = self.bn_3_1(conv3)\n",
        "        conv3 = self.conv_3_2(conv3)\n",
        "        conv3 = self.relu_3_2(conv3)\n",
        "        conv3 = self.bn_3_2(conv3)\n",
        "        pool3 = self.pool_3(conv3)\n",
        "\n",
        "        # encode block 4\n",
        "        conv4 = self.conv_4_1(pool3)\n",
        "        conv4 = self.relu_4_1(conv4)\n",
        "        conv4 = self.bn_4_1(conv4)\n",
        "        conv4 = self.conv_4_2(conv4)\n",
        "        conv4 = self.relu_4_2(conv4)\n",
        "        conv4 = self.bn_4_2(conv4)\n",
        "        pool4 = self.pool_4(conv4)\n",
        "\n",
        "        # Bottleneck\n",
        "        conv5 = self.conv_5_1(pool4)\n",
        "        conv5 = self.relu_5_1(conv5)\n",
        "        conv5 = self.bn_5_1(conv5)\n",
        "        conv5 = self.conv_5_2(conv5)\n",
        "        conv5 = self.relu_5_2(conv5)\n",
        "        conv5 = self.bn_5_2(conv5)\n",
        "\n",
        "        # decode block 1\n",
        "        sub1  = self.sub_1(conv5)\n",
        "        concat1 = self.concat_1([conv4, sub1])\n",
        "        conv6 = self.conv_6_1(concat1)\n",
        "        conv6 = self.relu_6_1(conv6)\n",
        "        conv6 = self.bn_6_1(conv6)\n",
        "        conv6 = self.conv_6_2(conv6)\n",
        "        conv6 = self.relu_6_2(conv6)\n",
        "        conv6 = self.bn_6_2(conv6)   \n",
        "\n",
        "        # decode block 2\n",
        "        sub2  = self.sub_2(conv6)\n",
        "        concat2 = self.concat_2([conv3, sub2])\n",
        "        conv7 = self.conv_7_1(concat2)\n",
        "        conv7 = self.relu_7_1(conv7)\n",
        "        conv7 = self.bn_7_1(conv7)\n",
        "        conv7 = self.conv_7_2(conv7)\n",
        "        conv7 = self.relu_7_2(conv7)\n",
        "        conv7 = self.bn_7_2(conv7)   \n",
        "\n",
        "        # decode block 3\n",
        "        sub3  = self.sub_3(conv7)\n",
        "        concat3 = self.concat_3([conv2, sub3])\n",
        "        conv8 = self.conv_8_1(concat3)\n",
        "        conv8 = self.relu_8_1(conv8)\n",
        "        conv8 = self.bn_8_1(conv8)\n",
        "        conv8 = self.conv_8_2(conv8)\n",
        "        conv8 = self.relu_8_2(conv8)\n",
        "        conv8 = self.bn_8_2(conv8)     \n",
        "\n",
        "        # decode block 4\n",
        "        sub4  = self.sub_4(conv8)\n",
        "        concat4 = self.concat_4([conv1, sub4])\n",
        "        conv9 = self.conv_9_1(concat4)\n",
        "        conv9 = self.relu_9_1(conv9)\n",
        "        conv9 = self.bn_9_1(conv9)\n",
        "        conv9 = self.conv_9_2(conv9)\n",
        "        conv9 = self.relu_9_2(conv9)\n",
        "        conv9 = self.bn_9_2(conv9)  \n",
        "\n",
        "        # last 1x1 conv block\n",
        "        conv10 = self.conv_10(conv9)\n",
        "\n",
        "        return conv10                "
      ],
      "execution_count": null,
      "outputs": []
    },
    {
      "cell_type": "markdown",
      "metadata": {
        "id": "xJgLO418KpIP"
      },
      "source": [
        "JYI\n",
        "- motivation for self.mask_layer\n",
        "- forward_operator, gives sinogram with or without noise\n",
        "- reconstruction under noise or outliers?\n",
        "- tf.cast\n",
        "- tf.squeeze\n",
        "- how the mask layer works?\n",
        "- how the network is constructed?\n",
        "- tensorflow.keras.layers.Conv2D\n",
        "- tensorflow.keras.layers.LeakyReLU\n",
        "- tensorflow.keras.layers.BatchNormalization\n",
        "- tensorflow.keras.layers.AveragePooling2D\n",
        "- tensorflow.keras.layers\n",
        "- not good idea use 'same' for padding\n",
        "- features can be too big\n",
        "        - tensorflow.keras.layers.UpSampling2D\n",
        "- tensorflow.keras.layers.Conv2D\n",
        "- tensorflow.keras.layers.Concatenate\n",
        "- "
      ]
    },
    {
      "cell_type": "code",
      "metadata": {
        "id": "396Cy50Losmv",
        "colab": {
          "base_uri": "https://localhost:8080/"
        },
        "outputId": "29daa52e-1f81-4d78-b7ac-e3c5f6294572"
      },
      "source": [
        "\"\"\"\n",
        "JYI - model exploration\n",
        "\"\"\"\n",
        "geometry_JYI = set_geometry_info(volume_size=28, \n",
        "                      volume_spacing=[1,1], \n",
        "                      detector_shape=800,\n",
        "                      detector_spacing=1, \n",
        "                      number_of_projections=180, \n",
        "                      angular_range= 2 * np.pi)\n",
        "simple_model_JYI = simple_model(geometry=geometry_JYI)\n",
        "\n",
        "print(\"simple_model_JYI summary: {}\\n\".format(simple_model_JYI.summary))\n"
      ],
      "execution_count": null,
      "outputs": [
        {
          "output_type": "stream",
          "text": [
            "simple_model_JYI summary: <bound method Model.summary of <__main__.simple_model object at 0x7ff01d9e8090>>\n",
            "\n"
          ],
          "name": "stdout"
        }
      ]
    },
    {
      "cell_type": "markdown",
      "metadata": {
        "id": "sg4oqmJV2F0B"
      },
      "source": [
        "# A simple test on Fashion Mnist.\n",
        "\n",
        "ToDos\n",
        "- CT images\n",
        "- ImageNet dataset\n",
        "- CelebA dataset"
      ]
    },
    {
      "cell_type": "code",
      "metadata": {
        "id": "pn_5M8nwgvc9"
      },
      "source": [
        "from tensorflow.keras.datasets import fashion_mnist\n",
        "(x_train, y_train), (x_test, y_test) = fashion_mnist.load_data() # x_train, y_train, x_test, y_test are numpy.ndarray\n",
        "\n",
        "xdata = np.pad(x_train, ((0,0), (2,2), (2,2)), 'constant')  # get to 32x32; now numpy.ndarray\n",
        "xdata = xdata/255\n",
        "\n",
        "xdata = xdata.astype(\"float32\")\n",
        "xdata = tf.squeeze( xdata[tf.where(y_train == 2),...] , axis=1)  # take the data from the same category (since they are similar); tf.sorflow.python.framework.ops.EagerTensor"
      ],
      "execution_count": null,
      "outputs": []
    },
    {
      "cell_type": "code",
      "metadata": {
        "id": "GTagHTcWlIc8",
        "colab": {
          "base_uri": "https://localhost:8080/",
          "height": 374
        },
        "outputId": "003107a9-83ca-40eb-839b-6818a5d0d76b"
      },
      "source": [
        "\"\"\"\n",
        "JYI - data exploration\n",
        "\"\"\"\n",
        "print(type(xdata))\n",
        "print(xdata.shape)\n",
        "print(np.max(xdata))\n",
        "plt.figure()\n",
        "plt.imshow(xdata[0,])\n",
        "\n",
        "print(type(y_train))\n",
        "print(y_train.shape)\n",
        "print(y_train[0])"
      ],
      "execution_count": null,
      "outputs": [
        {
          "output_type": "stream",
          "text": [
            "<class 'numpy.ndarray'>\n",
            "(60000, 32, 32)\n",
            "1.0\n",
            "<class 'numpy.ndarray'>\n",
            "(60000,)\n",
            "9\n"
          ],
          "name": "stdout"
        },
        {
          "output_type": "display_data",
          "data": {
            "image/png": "[encoded data removed]",
            "text/plain": [
              "<Figure size 432x288 with 1 Axes>"
            ]
          },
          "metadata": {
            "tags": [],
            "needs_background": "light"
          }
        }
      ]
    },
    {
      "cell_type": "markdown",
      "metadata": {
        "id": "0ZYmRW6wlTix"
      },
      "source": [
        "- tf.sequeeze, https://www.tensorflow.org/api_docs/python/tf/squeeze\n",
        "- tf.where, https://www.tensorflow.org/api_docs/python/tf/where\n"
      ]
    },
    {
      "cell_type": "code",
      "metadata": {
        "id": "SRy_-7RIg5Jb"
      },
      "source": [
        "# Initialize geometry object used in CT imaging\n",
        "\n",
        "geometry = set_geometry_info(volume_size=32)\n"
      ],
      "execution_count": null,
      "outputs": []
    },
    {
      "cell_type": "code",
      "metadata": {
        "id": "1MclOhwuw-Zb",
        "colab": {
          "base_uri": "https://localhost:8080/",
          "height": 391
        },
        "outputId": "c33f5908-abb8-419b-a013-333d38ad4987"
      },
      "source": [
        "\"\"\"\n",
        "JYI - geometry object exploration - 2\n",
        "\"\"\"\n",
        "\n",
        "# print(f'geometry.detector_origin: {geometry.detector_origin}')\n",
        "# print(f'geometry.ray_vectors.shape: {geometry.ray_vectors.shape}')\n",
        "# print(f'geometry.sinogram_shape: {geometry.sinogram_shape}')\n",
        "# print(f'geometry.volume_origin: {geometry.volume_origin}')\n",
        "# print(f'geometry.source_detector_distance: {geometry.source_detector_distance}')\n",
        "# print(f'geometry.source_isocenter_distance: {geometry.source_isocenter_distance}')\n",
        "\n",
        "# plt.figure()\n",
        "# plt.plot(geometry.ray_vectors[:,0],geometry.ray_vectors[:,1],'+')\n",
        "# plt.axis('equal')"
      ],
      "execution_count": null,
      "outputs": [
        {
          "output_type": "stream",
          "text": [
            "geometry.detector_origin: [-399.5]\n",
            "geometry.ray_vectors.shape: (180, 2)\n",
            "geometry.sinogram_shape: [180 800]\n",
            "geometry.volume_origin: [-15.5 -15.5]\n",
            "geometry.source_detector_distance: None\n",
            "geometry.source_isocenter_distance: None\n"
          ],
          "name": "stdout"
        },
        {
          "output_type": "execute_result",
          "data": {
            "text/plain": [
              "(-1.1, 1.1, -1.1, 1.1)"
            ]
          },
          "metadata": {
            "tags": []
          },
          "execution_count": 82
        },
        {
          "output_type": "display_data",
          "data": {
            "image/png": "[encoded data removed]",
            "text/plain": [
              "<Figure size 432x288 with 1 Axes>"
            ]
          },
          "metadata": {
            "tags": [],
            "needs_background": "light"
          }
        }
      ]
    },
    {
      "cell_type": "code",
      "metadata": {
        "id": "cRmNUvTnwfaa"
      },
      "source": [
        "\"\"\"\n",
        "JYI - geometry object exploration - 1\n",
        "- center of the image as origin of coordinate system --> image origin will be -H/2, -W/2\n",
        "- \n",
        "\"\"\"\n",
        "\n",
        "#geometry_JYI = set_geometry_info()\n",
        "# print(\"geometry: {}\\n\".format(geometry_JYI))\n",
        "\n",
        "# sinogram_shape_JYI = geometry_JYI.sinogram_shape\n",
        "# print(\"sinogram_shape: {}\\n\".format(geometry_JYI.sinogram_shape))\n",
        "\n",
        "# volume_origin_broadcast_JYI = np.broadcast_to(geometry_JYI.volume_origin, [5, *np.shape(geometry_JYI.volume_origin)])\n",
        "# print(\"volume_origin_broadcast_JYI: {}\\n\".format(volume_origin_broadcast_JYI))\n",
        "\n",
        "# volume_origin_JYI = geometry_JYI.volume_origin\n",
        "# print(\"volume_origin_JYI: {}\\n\".format(volume_origin_JYI))\n",
        "\n",
        "# detector_origin_JYI = geometry_JYI.detector_origin\n",
        "# print(\"detector_origin_JYI: {}\\n\".format(detector_origin_JYI))\n",
        "\n",
        "# ray_vectors_broadcast_JYI = np.broadcast_to(geometry_JYI.ray_vectors, [5, *np.shape(geometry_JYI.ray_vectors)])\n",
        "# print(\"ray_vectors_broadcast_JYI: {}\\n\".format(ray_vectors_broadcast_JYI.shape))\n",
        "\n",
        "# detector_shape_JYI = geometry_JYI.detector_shape\n",
        "# print(\"detector_shape_JYI: {}\\n\".format(detector_shape_JYI))\n",
        "\n",
        "# print(*np.shape(geometry_JYI.volume_origin))\n",
        "# print(*np.shape(np.array([[1,2],[3,4]])))\n",
        "\n"
      ],
      "execution_count": null,
      "outputs": []
    },
    {
      "cell_type": "code",
      "metadata": {
        "id": "ZvPmF2sVwecT"
      },
      "source": [
        "# Initialize and compile model\n",
        "\n",
        "model = simple_model(geometry, mask_slopes=[5.0, None])\n",
        "\n",
        "import tensorflow_addons as tfa\n",
        "# model.compile(optimizer=tf.keras.optimizers.SGD(learning_rate=0.01), \n",
        "#               loss=tf.keras.losses.MeanSquaredError(), \n",
        "#               metrics=['mse'])\n",
        "\n",
        "\n",
        "# model.compile(optimizer=tf.keras.optimizers.RMSprop(), \n",
        "#               loss=tf.keras.losses.MeanSquaredError(), \n",
        "#               metrics=['mse'])\n",
        "\n",
        "model.compile(optimizer=tfa.optimizers.SGDW(\n",
        "                        weight_decay=0,\n",
        "                        momentum=0.5,\n",
        "                        learning_rate=1e-3), \n",
        "              loss=tf.keras.losses.MeanSquaredError(),                        # use MSE or MAE.\n",
        "              # loss=tf.keras.losses.MeanAbsoluteError(),\n",
        "              metrics=['mse', 'mae']\n",
        "              )\n",
        "\n"
      ],
      "execution_count": null,
      "outputs": []
    },
    {
      "cell_type": "code",
      "metadata": {
        "id": "vO4OTnJ1qOn6",
        "colab": {
          "base_uri": "https://localhost:8080/"
        },
        "outputId": "0bd8bae2-6e90-49e0-e62b-11cbdc21c7a3"
      },
      "source": [
        "\"\"\"\n",
        "JYI - model exploration\n",
        "- \n",
        "\"\"\"\n",
        "\n",
        "print(\"model.summary: {}\\n\".format(model.summary))"
      ],
      "execution_count": null,
      "outputs": [
        {
          "output_type": "stream",
          "text": [
            "model.summary: <bound method Model.summary of <__main__.simple_model object at 0x7fb5b26b2190>>\n",
            "\n"
          ],
          "name": "stdout"
        }
      ]
    },
    {
      "cell_type": "code",
      "metadata": {
        "colab": {
          "base_uri": "https://localhost:8080/"
        },
        "id": "rvUEQ-S0hK8f",
        "outputId": "4f33315a-c737-4f0d-f7c3-208c4e099fa5"
      },
      "source": [
        "history = model.fit(x=xdata, y=xdata,\n",
        "                    batch_size=100,\n",
        "                    initial_epoch=0,\n",
        "                    epochs=5,\n",
        "                    validation_split=0.2,\n",
        "                    verbose=1) # originally 20 epcohs"
      ],
      "execution_count": null,
      "outputs": [
        {
          "output_type": "stream",
          "text": [
            "Epoch 1/5\n",
            "48/48 [==============================] - 6s 135ms/step - loss: 2.7037 - mse: 0.1746 - mae: 0.3509 - val_loss: 2.6730 - val_mse: 0.1497 - val_mae: 0.3616\n",
            "Epoch 2/5\n",
            "48/48 [==============================] - 5s 98ms/step - loss: 2.6267 - mse: 0.1090 - mae: 0.2725 - val_loss: 2.6509 - val_mse: 0.1390 - val_mae: 0.3487\n",
            "Epoch 3/5\n",
            "48/48 [==============================] - 5s 99ms/step - loss: 2.5955 - mse: 0.0892 - mae: 0.2465 - val_loss: 2.6336 - val_mse: 0.1331 - val_mae: 0.3392\n",
            "Epoch 4/5\n",
            "48/48 [==============================] - 5s 97ms/step - loss: 2.5733 - mse: 0.0784 - mae: 0.2312 - val_loss: 2.6164 - val_mse: 0.1272 - val_mae: 0.3292\n",
            "Epoch 5/5\n",
            "48/48 [==============================] - 5s 97ms/step - loss: 2.5542 - mse: 0.0707 - mae: 0.2194 - val_loss: 2.5988 - val_mse: 0.1211 - val_mae: 0.3187\n"
          ],
          "name": "stdout"
        }
      ]
    },
    {
      "cell_type": "code",
      "metadata": {
        "colab": {
          "base_uri": "https://localhost:8080/"
        },
        "id": "eBYh-MBchOyU",
        "outputId": "2d345811-e2e1-4643-d90d-959d71bfc413"
      },
      "source": [
        "# After training, locate the selected angles \n",
        "tf.where( tf.sigmoid(5.0 * model.trainable_variables[0] ) > 0.5 ).shape"
      ],
      "execution_count": null,
      "outputs": [
        {
          "output_type": "execute_result",
          "data": {
            "text/plain": [
              "<tf.Tensor: shape=(72, 1), dtype=int64, numpy=\n",
              "array([[  4],\n",
              "       [  5],\n",
              "       [  6],\n",
              "       [  8],\n",
              "       [  9],\n",
              "       [ 10],\n",
              "       [ 13],\n",
              "       [ 18],\n",
              "       [ 20],\n",
              "       [ 24],\n",
              "       [ 27],\n",
              "       [ 30],\n",
              "       [ 32],\n",
              "       [ 33],\n",
              "       [ 34],\n",
              "       [ 40],\n",
              "       [ 42],\n",
              "       [ 46],\n",
              "       [ 47],\n",
              "       [ 51],\n",
              "       [ 53],\n",
              "       [ 56],\n",
              "       [ 60],\n",
              "       [ 61],\n",
              "       [ 69],\n",
              "       [ 71],\n",
              "       [ 75],\n",
              "       [ 76],\n",
              "       [ 78],\n",
              "       [ 80],\n",
              "       [ 81],\n",
              "       [ 85],\n",
              "       [ 86],\n",
              "       [ 89],\n",
              "       [ 96],\n",
              "       [ 98],\n",
              "       [ 99],\n",
              "       [100],\n",
              "       [103],\n",
              "       [104],\n",
              "       [105],\n",
              "       [106],\n",
              "       [107],\n",
              "       [108],\n",
              "       [113],\n",
              "       [115],\n",
              "       [116],\n",
              "       [120],\n",
              "       [123],\n",
              "       [124],\n",
              "       [125],\n",
              "       [126],\n",
              "       [129],\n",
              "       [132],\n",
              "       [135],\n",
              "       [138],\n",
              "       [141],\n",
              "       [142],\n",
              "       [149],\n",
              "       [151],\n",
              "       [152],\n",
              "       [153],\n",
              "       [154],\n",
              "       [155],\n",
              "       [159],\n",
              "       [160],\n",
              "       [164],\n",
              "       [167],\n",
              "       [168],\n",
              "       [172],\n",
              "       [173],\n",
              "       [179]])>"
            ]
          },
          "metadata": {
            "tags": []
          },
          "execution_count": 117
        }
      ]
    },
    {
      "cell_type": "code",
      "metadata": {
        "colab": {
          "base_uri": "https://localhost:8080/",
          "height": 497
        },
        "id": "flHeLpenzD9J",
        "outputId": "51d4daa7-8501-4b0b-fcdf-d9048caf325f"
      },
      "source": [
        "image = tf.expand_dims( xdata[90,...] , axis=0)\n",
        "out_image = model(image, training=False) \n",
        "\n",
        "import matplotlib.pyplot as plt\n",
        "\n",
        "plt.figure()\n",
        "plt.imshow(np.squeeze(out_image), cmap=plt.get_cmap('gist_gray'))\n",
        "plt.axis('off')\n",
        "\n",
        "plt.figure()\n",
        "plt.imshow(np.squeeze(image), cmap=plt.get_cmap('gist_gray'))\n",
        "plt.axis('off')"
      ],
      "execution_count": null,
      "outputs": [
        {
          "output_type": "execute_result",
          "data": {
            "text/plain": [
              "(-0.5, 31.5, 31.5, -0.5)"
            ]
          },
          "metadata": {
            "tags": []
          },
          "execution_count": 118
        },
        {
          "output_type": "display_data",
          "data": {
            "image/png": "[encoded data removed]",
            "text/plain": [
              "<Figure size 432x288 with 1 Axes>"
            ]
          },
          "metadata": {
            "tags": [],
            "needs_background": "light"
          }
        },
        {
          "output_type": "display_data",
          "data": {
            "image/png": "[encoded data removed]",
            "text/plain": [
              "<Figure size 432x288 with 1 Axes>"
            ]
          },
          "metadata": {
            "tags": [],
            "needs_background": "light"
          }
        }
      ]
    },
    {
      "cell_type": "markdown",
      "metadata": {
        "id": "6clmSNoGohpP"
      },
      "source": [
        "# Fix the mask layer and train the network only."
      ]
    },
    {
      "cell_type": "code",
      "metadata": {
        "id": "IMP8oxAp1_LM"
      },
      "source": [
        "for k,_ in model._get_trainable_state().items():\n",
        "    if k.name == \"mask\":\n",
        "      k.trainable = False"
      ],
      "execution_count": null,
      "outputs": []
    },
    {
      "cell_type": "code",
      "metadata": {
        "id": "ENt55PvR5xIt"
      },
      "source": [
        "model.compile(optimizer=tfa.optimizers.SGDW(\n",
        "                        weight_decay=0,\n",
        "                        momentum=0.8,\n",
        "                        learning_rate=1e-2), \n",
        "              # loss=tf.keras.losses.MeanSquaredError(), \n",
        "              loss=tf.keras.losses.MeanAbsoluteError(),\n",
        "              # metrics=['mse'],\n",
        "              metrics=['mae']\n",
        "              )"
      ],
      "execution_count": null,
      "outputs": []
    },
    {
      "cell_type": "code",
      "metadata": {
        "colab": {
          "base_uri": "https://localhost:8080/"
        },
        "id": "235bD3T9cJH2",
        "outputId": "baa88a76-6d1e-45ec-d93e-864a8fe3dda8"
      },
      "source": [
        "\n",
        "history = model.fit(x=xdata, y=xdata,\n",
        "                    batch_size=200,\n",
        "                    initial_epoch=0,\n",
        "                    epochs=20,\n",
        "                    validation_split=0.2,\n",
        "                    verbose=1) # originally 200"
      ],
      "execution_count": null,
      "outputs": [
        {
          "output_type": "stream",
          "text": [
            "Epoch 1/20\n",
            "24/24 [==============================] - 4s 172ms/step - loss: 2.5203 - mae: 0.0426 - val_loss: 2.5378 - val_mae: 0.0600\n",
            "Epoch 2/20\n",
            "24/24 [==============================] - 4s 170ms/step - loss: 2.5193 - mae: 0.0415 - val_loss: 2.5279 - val_mae: 0.0502\n",
            "Epoch 3/20\n",
            "24/24 [==============================] - 4s 171ms/step - loss: 2.5184 - mae: 0.0407 - val_loss: 2.5259 - val_mae: 0.0482\n",
            "Epoch 4/20\n",
            "24/24 [==============================] - 4s 166ms/step - loss: 2.5175 - mae: 0.0398 - val_loss: 2.5197 - val_mae: 0.0420\n",
            "Epoch 5/20\n",
            "24/24 [==============================] - 4s 169ms/step - loss: 2.5171 - mae: 0.0393 - val_loss: 2.5196 - val_mae: 0.0418\n",
            "Epoch 6/20\n",
            "24/24 [==============================] - 4s 169ms/step - loss: 2.5162 - mae: 0.0385 - val_loss: 2.5171 - val_mae: 0.0394\n",
            "Epoch 7/20\n",
            "24/24 [==============================] - 4s 170ms/step - loss: 2.5160 - mae: 0.0382 - val_loss: 2.5150 - val_mae: 0.0372\n",
            "Epoch 8/20\n",
            "24/24 [==============================] - 4s 168ms/step - loss: 2.5154 - mae: 0.0377 - val_loss: 2.5141 - val_mae: 0.0364\n",
            "Epoch 9/20\n",
            "24/24 [==============================] - 4s 171ms/step - loss: 2.5148 - mae: 0.0371 - val_loss: 2.5137 - val_mae: 0.0360\n",
            "Epoch 10/20\n",
            "24/24 [==============================] - 4s 171ms/step - loss: 2.5142 - mae: 0.0365 - val_loss: 2.5138 - val_mae: 0.0360\n",
            "Epoch 11/20\n",
            "24/24 [==============================] - 4s 172ms/step - loss: 2.5136 - mae: 0.0358 - val_loss: 2.5136 - val_mae: 0.0359\n",
            "Epoch 12/20\n",
            "24/24 [==============================] - 4s 172ms/step - loss: 2.5133 - mae: 0.0355 - val_loss: 2.5140 - val_mae: 0.0363\n",
            "Epoch 13/20\n",
            "24/24 [==============================] - 4s 168ms/step - loss: 2.5127 - mae: 0.0350 - val_loss: 2.5143 - val_mae: 0.0366\n",
            "Epoch 14/20\n",
            "24/24 [==============================] - 4s 170ms/step - loss: 2.5129 - mae: 0.0352 - val_loss: 2.5147 - val_mae: 0.0369\n",
            "Epoch 15/20\n",
            "24/24 [==============================] - 4s 169ms/step - loss: 2.5121 - mae: 0.0344 - val_loss: 2.5147 - val_mae: 0.0370\n",
            "Epoch 16/20\n",
            "24/24 [==============================] - 4s 172ms/step - loss: 2.5118 - mae: 0.0341 - val_loss: 2.5144 - val_mae: 0.0367\n",
            "Epoch 17/20\n",
            "24/24 [==============================] - 4s 168ms/step - loss: 2.5116 - mae: 0.0339 - val_loss: 2.5139 - val_mae: 0.0362\n",
            "Epoch 18/20\n",
            "24/24 [==============================] - 4s 168ms/step - loss: 2.5113 - mae: 0.0336 - val_loss: 2.5130 - val_mae: 0.0352\n",
            "Epoch 19/20\n",
            "24/24 [==============================] - 4s 170ms/step - loss: 2.5115 - mae: 0.0337 - val_loss: 2.5143 - val_mae: 0.0366\n",
            "Epoch 20/20\n",
            "24/24 [==============================] - 4s 168ms/step - loss: 2.5110 - mae: 0.0333 - val_loss: 2.5142 - val_mae: 0.0365\n"
          ],
          "name": "stdout"
        }
      ]
    },
    {
      "cell_type": "code",
      "metadata": {
        "colab": {
          "base_uri": "https://localhost:8080/",
          "height": 497
        },
        "id": "LncS0KaScN9w",
        "outputId": "61926a39-572d-4c86-c77d-30266248eb2a"
      },
      "source": [
        "image = tf.expand_dims( xdata[90,...] , axis=0)\n",
        "out_image = model(image, training=False) \n",
        "\n",
        "import matplotlib.pyplot as plt\n",
        "\n",
        "plt.figure()\n",
        "plt.imshow(np.squeeze(out_image), cmap=plt.get_cmap('gist_gray'))\n",
        "plt.axis('off')\n",
        "\n",
        "plt.figure()\n",
        "plt.imshow(np.squeeze(image), cmap=plt.get_cmap('gist_gray'))\n",
        "plt.axis('off')"
      ],
      "execution_count": null,
      "outputs": [
        {
          "output_type": "execute_result",
          "data": {
            "text/plain": [
              "(-0.5, 31.5, 31.5, -0.5)"
            ]
          },
          "metadata": {
            "tags": []
          },
          "execution_count": 51
        },
        {
          "output_type": "display_data",
          "data": {
            "image/png": "[encoded data removed]",
            "text/plain": [
              "<Figure size 432x288 with 1 Axes>"
            ]
          },
          "metadata": {
            "tags": [],
            "needs_background": "light"
          }
        },
        {
          "output_type": "display_data",
          "data": {
            "image/png": "[encoded data removed]",
            "text/plain": [
              "<Figure size 432x288 with 1 Axes>"
            ]
          },
          "metadata": {
            "tags": [],
            "needs_background": "light"
          }
        }
      ]
    }
  ]
}